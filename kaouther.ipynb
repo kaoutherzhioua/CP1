{
  "nbformat": 4,
  "nbformat_minor": 0,
  "metadata": {
    "colab": {
      "name": "kaouther.ipynb",
      "provenance": [],
      "collapsed_sections": []
    },
    "kernelspec": {
      "name": "python3",
      "display_name": "Python 3"
    },
    "language_info": {
      "name": "python"
    }
  },
  "cells": [
    {
      "cell_type": "code",
      "metadata": {
        "colab": {
          "base_uri": "https://localhost:8080/"
        },
        "id": "NaJEobYyZ5HI",
        "outputId": "ae495ae0-ccb8-4e55-8ab1-cbab14c6ff86"
      },
      "source": [
        "print(\"Welcome to python world! Let's start coding\")"
      ],
      "execution_count": null,
      "outputs": [
        {
          "output_type": "stream",
          "text": [
            "Welcome to python world! Let's start coding\n"
          ],
          "name": "stdout"
        }
      ]
    },
    {
      "cell_type": "code",
      "metadata": {
        "id": "waHO3rUwaCDF",
        "colab": {
          "base_uri": "https://localhost:8080/"
        },
        "outputId": "d8b375a4-e052-4d31-fd08-9befe53fdbb5"
      },
      "source": [
        "#ex1\n",
        "nom=str(input(\"donner nom\"))\n",
        "prenom=str(input(\"donner prenom\"))\n",
        "print(prenom+\" \"+nom)"
      ],
      "execution_count": null,
      "outputs": [
        {
          "output_type": "stream",
          "text": [
            "donner nomkaouther\n",
            "donner prenomzhioua\n",
            "zhioua kaouther\n"
          ],
          "name": "stdout"
        }
      ]
    },
    {
      "cell_type": "code",
      "metadata": {
        "colab": {
          "base_uri": "https://localhost:8080/"
        },
        "id": "osoDkUIDynXt",
        "outputId": "0b7592a1-767b-4228-f69f-64d1de52d646"
      },
      "source": [
        "#ex3\n",
        "n=int(input(\"donner un entier\"))\n",
        "if n%2==0:\n",
        "  print(\"pair\")\n",
        "else:\n",
        "    print(\"impair\")\n",
        "    \n"
      ],
      "execution_count": null,
      "outputs": [
        {
          "output_type": "stream",
          "text": [
            "donner un entier12\n",
            "pair\n"
          ],
          "name": "stdout"
        }
      ]
    },
    {
      "cell_type": "code",
      "metadata": {
        "colab": {
          "base_uri": "https://localhost:8080/"
        },
        "id": "LEkzwZboIGsp",
        "outputId": "f164cecd-5e0d-4b3d-9f1e-b468bfd633bb"
      },
      "source": [
        "#EX2\n",
        "n=(input(\"donner un nombre\"))\n",
        "a=n+n\n",
        "b=n+n+n\n",
        "print(int(a)+int(b)+int(n))"
      ],
      "execution_count": null,
      "outputs": [
        {
          "output_type": "stream",
          "text": [
            "donner un nombre5\n",
            "615\n"
          ],
          "name": "stdout"
        }
      ]
    },
    {
      "cell_type": "code",
      "metadata": {
        "colab": {
          "base_uri": "https://localhost:8080/"
        },
        "id": "4tH5C5QXz-yU",
        "outputId": "23163166-503d-4b7d-973e-f0acbe4961ba"
      },
      "source": [
        "#ex5\n",
        "n=int(input(\"donner un nbr\"))\n",
        "f=1\n",
        "for i in range(1,n+1):\n",
        "    f=f*i\n",
        "print(f)"
      ],
      "execution_count": null,
      "outputs": [
        {
          "output_type": "stream",
          "text": [
            "donner un nbr6\n",
            "720\n"
          ],
          "name": "stdout"
        }
      ]
    },
    {
      "cell_type": "code",
      "metadata": {
        "id": "LTJ-ZdIraClu",
        "colab": {
          "base_uri": "https://localhost:8080/"
        },
        "outputId": "57847f6a-615e-4d0c-c1bf-a4878afe44e2"
      },
      "source": [
        "#ex4\n",
        "for i in range(2000,3201):\n",
        "  if i%7==0 and i%5==1 :\n",
        "    print(i, end=(\" \"))"
      ],
      "execution_count": null,
      "outputs": [
        {
          "output_type": "stream",
          "text": [
            "2016 2051 2086 2121 2156 2191 2226 2261 2296 2331 2366 2401 2436 2471 2506 2541 2576 2611 2646 2681 2716 2751 2786 2821 2856 2891 2926 2961 2996 3031 3066 3101 3136 3171 "
          ],
          "name": "stdout"
        }
      ]
    },
    {
      "cell_type": "code",
      "metadata": {
        "colab": {
          "base_uri": "https://localhost:8080/"
        },
        "id": "fH_QUqKmQig-",
        "outputId": "f5e06189-8de2-4d34-abfb-e156a73c862a"
      },
      "source": [
        "#ex6\n",
        "ch=str(input(\"donner une chaine \"))\n",
        "ch1 =''\n",
        "for i in range(0,len(ch),2) :\n",
        "  ch1 = ch1 + ch[i] \n",
        "ch = ch1\n",
        "print(ch)\n",
        "\n"
      ],
      "execution_count": null,
      "outputs": [
        {
          "output_type": "stream",
          "text": [
            "donner une chaine hello\n",
            "hlo\n"
          ],
          "name": "stdout"
        }
      ]
    },
    {
      "cell_type": "code",
      "metadata": {
        "colab": {
          "base_uri": "https://localhost:8080/"
        },
        "id": "z3PAijp0W0Mt",
        "outputId": "0d6847f0-6f7d-455f-f695-2e032c6d12fd"
      },
      "source": [
        "#ex7\n",
        "prix=int(input(\"donner un entier \"))\n",
        "if prix >= 500 :\n",
        "  prix = prix - 0.5*prix\n",
        "elif prix in range (200,500):\n",
        "  prix = prix - 0.3*prix\n",
        "else :\n",
        "  prix = prix - 0.1*prix\n",
        "print(prix)\n",
        "\n",
        "\n"
      ],
      "execution_count": null,
      "outputs": [
        {
          "output_type": "stream",
          "text": [
            "donner un entier 300\n",
            "210.0\n"
          ],
          "name": "stdout"
        }
      ]
    }
  ]
}